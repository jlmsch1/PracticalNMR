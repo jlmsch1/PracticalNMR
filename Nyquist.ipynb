{
 "cells": [
  {
   "cell_type": "markdown",
   "metadata": {},
   "source": [
    "# Let's look at a simple FID. It has only one signal and there is no relaxation. In this case, our FID has a signal with an oscillation of 2.0 Hz."
   ]
  },
  {
   "cell_type": "code",
   "execution_count": null,
   "metadata": {},
   "outputs": [],
   "source": [
    "import numpy as np\n",
    "import matplotlib.pyplot as plt\n",
    "\n",
    "# define a standard look for all of the plots\n",
    "%matplotlib inline\n",
    "font = {'size'   : 20}\n",
    "plt.rc('font', **font)\n",
    "\n",
    "DW = 0.005\n",
    "NP = 512\n",
    "OMEGA1 = 2.00\n",
    "OMEGA2 = 2.00\n",
    "OMEGA3 = 1.50\n",
    "OMEGA4 = 6.00\n",
    "AQ = NP * DW\n",
    "\n",
    "t = np.arange(0.0, NP * DW, DW)\n",
    "i = np.cos(2 * np.pi * OMEGA2 * t)\n",
    "\n",
    "fig, ax1 = plt.subplots(figsize=(15,7.5))\n",
    "ax1.plot(t, i, color='black', linewidth=2)\n",
    "ax1.set_xlim(-0.05, (AQ + 0.05))\n",
    "ax1.set_xlabel('time')\n",
    "ax1.set_ylabel('intensity')\n",
    "ax1.set_ylim(-1.1, 1.1)\n",
    "ax1.grid(True)"
   ]
  },
  {
   "cell_type": "markdown",
   "metadata": {},
   "source": [
    "# Ok. This is what we expected. Right? It's a cosine modulated signal with a frequency of 2.0 Hz. I've drawn it as a continuous function but we know that's not right. The computer digitizes this analog signal and turns it into discrete data points: [I(t), t].\n",
    "# How does the computer digitize this signal? I mean how often does it sample points?"
   ]
  },
  {
   "cell_type": "code",
   "execution_count": null,
   "metadata": {},
   "outputs": [],
   "source": [
    "nyquist_t = np.arange(0.0, NP * DW, (1 / (2 * OMEGA1)))\n",
    "nyquist_i = np.cos(2 * np.pi * OMEGA1 * nyquist_t)\n",
    "\n",
    "fig, ax2 = plt.subplots(figsize=(15,7.5))\n",
    "ax2.plot(t, i, color='black', linewidth=2)\n",
    "ax2.scatter(nyquist_t, nyquist_i, s=200, color='orange')\n",
    "ax2.set_xlim(-0.05, (AQ + 0.05))\n",
    "ax2.set_xlabel('time')\n",
    "ax2.set_ylabel('intensity')\n",
    "ax2.set_ylim(-1.1, 1.1)\n",
    "ax2.grid(True)"
   ]
  },
  {
   "cell_type": "markdown",
   "metadata": {},
   "source": [
    "# According to the Nyquist theorem, we need to collect data points at a rate that is two times the fastest oscillation. Our signal osciallates at 2.0 Hz. Therefore, we need to collect four data points per second. We can also say that we need to collect two data points _per cycle_"
   ]
  },
  {
   "cell_type": "code",
   "execution_count": null,
   "metadata": {},
   "outputs": [],
   "source": [
    "t = np.arange(0.0, NP * DW, DW)\n",
    "i = np.cos(2 * np.pi * OMEGA3 * t)\n",
    "nyquist_t3 = np.arange(0.0, NP * DW, (1 / (2 * OMEGA1)))\n",
    "nyquist_i3 = np.cos(2 * np.pi * OMEGA3 * nyquist_t)\n",
    "\n",
    "fig, ax3 = plt.subplots(figsize=(15,7.5))\n",
    "ax3.plot(t, i, color='black', linewidth=2)\n",
    "ax3.scatter(nyquist_t, nyquist_i, s=200, color='orange')\n",
    "ax3.scatter(nyquist_t3, nyquist_i3, s=200, color='blue')\n",
    "ax3.set_xlim(-0.05, (AQ + 0.05))\n",
    "ax3.set_xlabel('time')\n",
    "ax3.set_ylabel('intensity')\n",
    "ax3.set_ylim(-1.1, 1.1)\n",
    "ax3.grid(True)"
   ]
  },
  {
   "cell_type": "markdown",
   "metadata": {},
   "source": [
    "# Wow. Look at that. Here is a 1.5 Hz signal. As the oscillating signal (black line) gets slower, the sampled data points (orange circles) don't match as well. I can resample the new frequency at the same time intervals and it produces a unique sampling scheme for that particular frequency. No _slower_ signal can be confused for the actual signal. If I continue to sample four data points per second, any signal that is 2.0 Hz or slower can be uniquely identified."
   ]
  },
  {
   "cell_type": "code",
   "execution_count": null,
   "metadata": {},
   "outputs": [],
   "source": [
    "t = np.arange(0.0, NP * DW, DW)\n",
    "i = np.cos(2 * np.pi * OMEGA4 * t)\n",
    "nyquist_t4 = np.arange(0.0, NP * DW, (1 / (2 * OMEGA1)))\n",
    "nyquist_i4 = np.cos(2 * np.pi * OMEGA1 * nyquist_t)\n",
    "\n",
    "fig, ax4 = plt.subplots(figsize=(15,7.5))\n",
    "ax4.plot(t, i, color='black', linewidth=2)\n",
    "ax4.scatter(nyquist_t4, nyquist_i4, s=200, color='orange')\n",
    "# ax4.scatter(nyquist_t3, nyquist_i3, s=200, color='blue')\n",
    "ax4.set_xlim(-0.05, (AQ + 0.05))\n",
    "ax4.set_xlabel('time')\n",
    "ax4.set_ylabel('intensity')\n",
    "ax4.set_ylim(-1.1, 1.1)\n",
    "ax4.grid(True)"
   ]
  },
  {
   "cell_type": "markdown",
   "metadata": {},
   "source": [
    "# _Faster_ signals are not unique. That's a problem."
   ]
  },
  {
   "cell_type": "code",
   "execution_count": null,
   "metadata": {},
   "outputs": [],
   "source": []
  }
 ],
 "metadata": {
  "kernelspec": {
   "display_name": "Python 3",
   "language": "python",
   "name": "python3"
  },
  "language_info": {
   "codemirror_mode": {
    "name": "ipython",
    "version": 3
   },
   "file_extension": ".py",
   "mimetype": "text/x-python",
   "name": "python",
   "nbconvert_exporter": "python",
   "pygments_lexer": "ipython3",
   "version": "3.7.4"
  }
 },
 "nbformat": 4,
 "nbformat_minor": 4
}
